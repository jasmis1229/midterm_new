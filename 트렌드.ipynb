{
  "nbformat": 4,
  "nbformat_minor": 0,
  "metadata": {
    "colab": {
      "provenance": [],
      "authorship_tag": "ABX9TyNZfJwoTlNBbLX26J7U8lK6",
      "include_colab_link": true
    },
    "kernelspec": {
      "name": "python3",
      "display_name": "Python 3"
    },
    "language_info": {
      "name": "python"
    }
  },
  "cells": [
    {
      "cell_type": "markdown",
      "metadata": {
        "id": "view-in-github",
        "colab_type": "text"
      },
      "source": [
        "<a href=\"https://colab.research.google.com/github/jasmis1229/midterm_new/blob/main/%ED%8A%B8%EB%A0%8C%EB%93%9C.ipynb\" target=\"_parent\"><img src=\"https://colab.research.google.com/assets/colab-badge.svg\" alt=\"Open In Colab\"/></a>"
      ]
    },
    {
      "cell_type": "code",
      "source": [
        "# ✅ CBOW 실험 초기화\n",
        "\n",
        "# 1. 라이브러리 불러오기\n",
        "import pandas as pd\n",
        "import torch\n",
        "import torch.nn as nn\n",
        "import torch.optim as optim\n",
        "import re\n",
        "import random\n",
        "import torch.nn.functional as F\n",
        "from torch.utils.data import DataLoader, Dataset\n",
        "\n",
        "# 2. 데이터 불러오기\n",
        "df = pd.read_csv('/content/신조어_스타일_패턴_완성본_UTF8SIG.csv')  # 파일명은 환경에 맞게 수정"
      ],
      "metadata": {
        "id": "Wd1t0ZUu6EXC"
      },
      "execution_count": 1,
      "outputs": []
    },
    {
      "cell_type": "code",
      "source": [
        "# ✅ CBOW 데이터 정제\n",
        "\n",
        "# 신조어 앞 번호 제거 함수\n",
        "def clean_word(word):\n",
        "    word = str(word)\n",
        "    return re.sub(r'^\\d+\\.', '', word).strip()\n",
        "\n",
        "# 클린 신조어 컬럼 생성\n",
        "df['클린 신조어'] = df['신조어'].apply(clean_word)"
      ],
      "metadata": {
        "id": "yqI1uxJtPJlU"
      },
      "execution_count": 2,
      "outputs": []
    },
    {
      "cell_type": "code",
      "source": [
        "# ✅ CBOW 설명 토크나이징\n",
        "\n",
        "# 간단 토크나이징 함수\n",
        "def simple_tokenize(text):\n",
        "    text = re.sub(r\"[^\\w\\s]\", \"\", str(text))  # 특수문자 제거\n",
        "    tokens = text.strip().split()\n",
        "    tokens = [token for token in tokens if len(token) > 1]  # 한 글자 제거\n",
        "    return tokens\n",
        "\n",
        "# 설명 토크나이징 적용\n",
        "descriptions = df['설명'].tolist()\n",
        "tokenized_descriptions = [simple_tokenize(desc) for desc in descriptions]"
      ],
      "metadata": {
        "id": "lFWro2mUPbUc"
      },
      "execution_count": 3,
      "outputs": []
    },
    {
      "cell_type": "code",
      "source": [
        "# ✅ CBOW 어휘 사전 구축\n",
        "\n",
        "vocab = set()\n",
        "for tokens in tokenized_descriptions:\n",
        "    vocab.update(tokens)\n",
        "\n",
        "# 단어 ↔ 인덱스 매핑\n",
        "vocab = {word: idx for idx, word in enumerate(vocab)}\n",
        "idx_to_word = {idx: word for word, idx in vocab.items()}\n",
        "vocab_size = len(vocab)"
      ],
      "metadata": {
        "id": "TVTD5BY_Puyt"
      },
      "execution_count": 4,
      "outputs": []
    },
    {
      "cell_type": "code",
      "source": [
        "# ✅ CBOW 학습 데이터셋 생성\n",
        "\n",
        "window_size = 2\n",
        "context_center_pairs = []\n",
        "\n",
        "for tokens in tokenized_descriptions:\n",
        "    for idx, center_word in enumerate(tokens):\n",
        "        context = []\n",
        "        for i in range(idx - window_size, idx + window_size + 1):\n",
        "            if i != idx and 0 <= i < len(tokens):\n",
        "                context.append(vocab[tokens[i]])\n",
        "        if context:\n",
        "            context_center_pairs.append((context, vocab[center_word]))"
      ],
      "metadata": {
        "id": "qNnXiZirQAt0"
      },
      "execution_count": 5,
      "outputs": []
    },
    {
      "cell_type": "code",
      "source": [
        "# ✅ CBOW Dataset 클래스 정의\n",
        "\n",
        "class CBOWDataset(Dataset):\n",
        "    def __init__(self, data):\n",
        "        self.data = data\n",
        "\n",
        "    def __len__(self):\n",
        "        return len(self.data)\n",
        "\n",
        "    def __getitem__(self, idx):\n",
        "        context, center = self.data[idx]\n",
        "        return torch.tensor(context), torch.tensor(center)\n",
        "\n",
        "# DataLoader 생성\n",
        "dataset = CBOWDataset(context_center_pairs)\n",
        "train_loader = DataLoader(dataset, batch_size=128, shuffle=True, collate_fn=lambda batch: list(zip(*batch)))"
      ],
      "metadata": {
        "id": "n_HCqFoaQQgc"
      },
      "execution_count": 6,
      "outputs": []
    },
    {
      "cell_type": "code",
      "source": [
        "# ✅ CBOW 모델 클래스 정의\n",
        "\n",
        "class CBOWModel(nn.Module):\n",
        "    def __init__(self, vocab_size, embedding_dim=100):\n",
        "        super(CBOWModel, self).__init__()\n",
        "        self.embeddings = nn.Embedding(vocab_size, embedding_dim)\n",
        "        self.linear = nn.Linear(embedding_dim, vocab_size)\n",
        "\n",
        "    def forward(self, contexts):\n",
        "        embeds = []\n",
        "        for context in contexts:\n",
        "            embed = self.embeddings(context)\n",
        "            embeds.append(embed.mean(dim=0))\n",
        "        embeds = torch.stack(embeds)\n",
        "        out = self.linear(embeds)\n",
        "        return out"
      ],
      "metadata": {
        "id": "SKDHKfjxQgG6"
      },
      "execution_count": 7,
      "outputs": []
    }
  ]
}
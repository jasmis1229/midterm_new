{
  "nbformat": 4,
  "nbformat_minor": 0,
  "metadata": {
    "colab": {
      "provenance": [],
      "authorship_tag": "ABX9TyM7lH3gdbnIT6mjI0FwOcIl",
      "include_colab_link": true
    },
    "kernelspec": {
      "name": "python3",
      "display_name": "Python 3"
    },
    "language_info": {
      "name": "python"
    }
  },
  "cells": [
    {
      "cell_type": "markdown",
      "metadata": {
        "id": "view-in-github",
        "colab_type": "text"
      },
      "source": [
        "<a href=\"https://colab.research.google.com/github/jasmis1229/midterm_new/blob/main/%ED%8A%B8%EB%A0%8C%EB%93%9C.ipynb\" target=\"_parent\"><img src=\"https://colab.research.google.com/assets/colab-badge.svg\" alt=\"Open In Colab\"/></a>"
      ]
    },
    {
      "cell_type": "code",
      "source": [
        "# ✅ CBOW 실험 초기화\n",
        "\n",
        "# 1. 라이브러리 불러오기\n",
        "import pandas as pd\n",
        "import torch\n",
        "import torch.nn as nn\n",
        "import torch.optim as optim\n",
        "import re\n",
        "import random\n",
        "import torch.nn.functional as F\n",
        "from torch.utils.data import DataLoader, Dataset\n",
        "\n",
        "# 2. 데이터 불러오기\n",
        "df = pd.read_csv('/content/신조어_스타일_패턴_완성본_UTF8SIG.csv')  # 파일명은 환경에 맞게 수정"
      ],
      "metadata": {
        "id": "Wd1t0ZUu6EXC"
      },
      "execution_count": 1,
      "outputs": []
    },
    {
      "cell_type": "code",
      "source": [
        "# ✅ CBOW 데이터 정제\n",
        "\n",
        "# 신조어 앞 번호 제거 함수\n",
        "def clean_word(word):\n",
        "    word = str(word)\n",
        "    return re.sub(r'^\\d+\\.', '', word).strip()\n",
        "\n",
        "# 클린 신조어 컬럼 생성\n",
        "df['클린 신조어'] = df['신조어'].apply(clean_word)"
      ],
      "metadata": {
        "id": "yqI1uxJtPJlU"
      },
      "execution_count": 2,
      "outputs": []
    }
  ]
}